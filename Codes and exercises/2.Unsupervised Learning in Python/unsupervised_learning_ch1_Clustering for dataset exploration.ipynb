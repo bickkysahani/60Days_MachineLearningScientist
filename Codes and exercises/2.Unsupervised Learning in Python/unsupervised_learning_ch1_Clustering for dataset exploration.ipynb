{
 "cells": [
  {
   "cell_type": "markdown",
   "id": "rotary-current",
   "metadata": {},
   "source": [
    "# k-means clustering"
   ]
  },
  {
   "cell_type": "code",
   "execution_count": 1,
   "id": "canadian-green",
   "metadata": {},
   "outputs": [],
   "source": [
    "#Finds cluster of samples\n",
    "#number of clusters must be specified\n",
    "#implemented in sklearn"
   ]
  },
  {
   "cell_type": "markdown",
   "id": "liberal-ecuador",
   "metadata": {},
   "source": [
    "Clustering 2D points"
   ]
  },
  {
   "cell_type": "code",
   "execution_count": 2,
   "id": "suitable-damage",
   "metadata": {},
   "outputs": [],
   "source": [
    "# # Import KMeans\n",
    "# from sklearn.cluster import KMeans\n",
    "\n",
    "# # Create a KMeans instance with 3 clusters: model\n",
    "# model = KMeans(n_clusters=3)\n",
    "\n",
    "# # Fit model to points\n",
    "# model.fit(points)\n",
    "\n",
    "# # Determine the cluster labels of new_points: labels\n",
    "# labels = model.predict(new_points)\n",
    "\n",
    "# # Print cluster labels of new_points\n",
    "# print(labels)\n"
   ]
  },
  {
   "cell_type": "code",
   "execution_count": 3,
   "id": "according-diameter",
   "metadata": {},
   "outputs": [],
   "source": [
    "# # Import pyplot\n",
    "# import matplotlib.pyplot as plt\n",
    "\n",
    "# # Assign the columns of new_points: xs and ys\n",
    "# xs = new_points[:,0]\n",
    "# ys = new_points[:,1]\n",
    "\n",
    "# # Make a scatter plot of xs and ys, using labels to define the colors\n",
    "# plt.scatter(xs,ys,c=labels,alpha=0.5)\n",
    "\n",
    "# # Assign the cluster centers: centroids\n",
    "# centroids = model.cluster_centers_\n",
    "\n",
    "# # Assign the columns of centroids: centroids_x, centroids_y\n",
    "# centroids_x = centroids[:,0]\n",
    "# centroids_y = centroids[:,1]\n",
    "\n",
    "# # Make a scatter plot of centroids_x and centroids_y\n",
    "# plt.scatter(centroids_x,centroids_y,marker='D',s=50)\n",
    "# plt.show()\n"
   ]
  },
  {
   "cell_type": "markdown",
   "id": "outer-acquisition",
   "metadata": {},
   "source": [
    "Evaluating a clustering"
   ]
  },
  {
   "cell_type": "code",
   "execution_count": 5,
   "id": "collective-elephant",
   "metadata": {},
   "outputs": [],
   "source": [
    "# #use iris dataset\n",
    "# import pandas as pd\n",
    "# df = pd.Dataframe({'labels': labels,'species':species})\n",
    "# print(df)\n",
    "# ct = pd.crosstab(df['labels'],df['species'])\n",
    "# print(ct)\n",
    "# #Cross tabulations like these provide great insights into which sort of samples are in which cluster"
   ]
  },
  {
   "cell_type": "markdown",
   "id": "naked-colon",
   "metadata": {},
   "source": [
    "How many clusters of grain?"
   ]
  },
  {
   "cell_type": "code",
   "execution_count": 30,
   "id": "ethical-activity",
   "metadata": {},
   "outputs": [
    {
     "name": "stdout",
     "output_type": "stream",
     "text": [
      "[[15.26   14.84    0.871  ...  3.312   2.221   5.22  ]\n",
      " [14.88   14.57    0.8811 ...  3.333   1.018   4.956 ]\n",
      " [14.29   14.09    0.905  ...  3.337   2.699   4.825 ]\n",
      " ...\n",
      " [13.2    13.66    0.8883 ...  3.232   8.315   5.056 ]\n",
      " [11.84   13.21    0.8521 ...  2.836   3.598   5.044 ]\n",
      " [12.3    13.34    0.8684 ...  2.974   5.637   5.063 ]]\n"
     ]
    },
    {
     "name": "stderr",
     "output_type": "stream",
     "text": [
      "C:\\Users\\MRROBOT\\anaconda3\\envs\\tensorflow\\lib\\site-packages\\sklearn\\cluster\\_kmeans.py:881: UserWarning: KMeans is known to have a memory leak on Windows with MKL, when there are less chunks than available threads. You can avoid it by setting the environment variable OMP_NUM_THREADS=1.\n",
      "  warnings.warn(\n"
     ]
    },
    {
     "data": {
      "image/png": "[encoded data removed]",
      "text/plain": [
       "<Figure size 432x288 with 1 Axes>"
      ]
     },
     "metadata": {
      "needs_background": "light"
     },
     "output_type": "display_data"
    }
   ],
   "source": [
    "import os\n",
    "os.environ[\"OMP_NUM_THREADS\"] = \"1\"\n",
    "import pandas as pd\n",
    "import matplotlib.pyplot as plt\n",
    "from sklearn.cluster import KMeans\n",
    "\n",
    "df = pd.read_csv('datasets/Grains/seeds.csv',names=['area','perimeter','compactness','length','width','asymmetry','length of kernel','varieties'])\n",
    "df.head()\n",
    "samples = df.drop('varieties',axis=1).values\n",
    "print(samples)\n",
    "\n",
    "varieties = df.varieties.values\n",
    "ks = range(1, 6)\n",
    "inertias = []\n",
    "\n",
    "for k in ks:\n",
    "    # Create a KMeans instance with k clusters: model\n",
    "    model = KMeans(n_clusters = k)\n",
    "    \n",
    "    # Fit model to samples\n",
    "    model.fit(samples)\n",
    "    \n",
    "    # Append the inertia to the list of inertias\n",
    "    inertias.append(model.inertia_)\n",
    "    \n",
    "# Plot ks vs inertias\n",
    "plt.plot(ks, inertias, '-o')\n",
    "plt.xlabel('number of clusters, k')\n",
    "plt.ylabel('inertia')\n",
    "plt.xticks(ks)\n",
    "plt.show()\n"
   ]
  },
  {
   "cell_type": "markdown",
   "id": "alien-deadline",
   "metadata": {},
   "source": [
    "Evaluating the grain"
   ]
  },
  {
   "cell_type": "code",
   "execution_count": 31,
   "id": "detected-champion",
   "metadata": {},
   "outputs": [
    {
     "name": "stdout",
     "output_type": "stream",
     "text": [
      "varieties   1   2   3\n",
      "labels               \n",
      "0           1  60   0\n",
      "1           9   0  68\n",
      "2          60  10   2\n"
     ]
    }
   ],
   "source": [
    "# Create a KMeans model with 3 clusters: model\n",
    "model = KMeans(n_clusters=3)\n",
    "\n",
    "# Use fit_predict to fit model and obtain cluster labels: labels\n",
    "labels = model.fit_predict(samples)\n",
    "\n",
    "# Create a DataFrame with labels and varieties as columns: df\n",
    "df = pd.DataFrame({'labels': labels, 'varieties': varieties})\n",
    "\n",
    "# Create crosstab: ct\n",
    "ct = pd.crosstab(df['labels'],df['varieties'])\n",
    "\n",
    "# Display ct\n",
    "print(ct)\n"
   ]
  },
  {
   "cell_type": "markdown",
   "id": "compliant-journalist",
   "metadata": {},
   "source": [
    "Transforming features for better clusterings"
   ]
  },
  {
   "cell_type": "code",
   "execution_count": 33,
   "id": "female-dakota",
   "metadata": {},
   "outputs": [
    {
     "data": {
      "text/html": [
       "<div>\n",
       "<style scoped>\n",
       "    .dataframe tbody tr th:only-of-type {\n",
       "        vertical-align: middle;\n",
       "    }\n",
       "\n",
       "    .dataframe tbody tr th {\n",
       "        vertical-align: top;\n",
       "    }\n",
       "\n",
       "    .dataframe thead th {\n",
       "        text-align: right;\n",
       "    }\n",
       "</style>\n",
       "<table border=\"1\" class=\"dataframe\">\n",
       "  <thead>\n",
       "    <tr style=\"text-align: right;\">\n",
       "      <th></th>\n",
       "      <th>class_label</th>\n",
       "      <th>class_name</th>\n",
       "      <th>alcohol</th>\n",
       "      <th>malic_acid</th>\n",
       "      <th>ash</th>\n",
       "      <th>alcalinity_of_ash</th>\n",
       "      <th>magnesium</th>\n",
       "      <th>total_phenols</th>\n",
       "      <th>flavanoids</th>\n",
       "      <th>nonflavanoid_phenols</th>\n",
       "      <th>proanthocyanins</th>\n",
       "      <th>color_intensity</th>\n",
       "      <th>hue</th>\n",
       "      <th>od280</th>\n",
       "      <th>proline</th>\n",
       "    </tr>\n",
       "  </thead>\n",
       "  <tbody>\n",
       "    <tr>\n",
       "      <th>0</th>\n",
       "      <td>1</td>\n",
       "      <td>Barolo</td>\n",
       "      <td>14.23</td>\n",
       "      <td>1.71</td>\n",
       "      <td>2.43</td>\n",
       "      <td>15.6</td>\n",
       "      <td>127</td>\n",
       "      <td>2.80</td>\n",
       "      <td>3.06</td>\n",
       "      <td>0.28</td>\n",
       "      <td>2.29</td>\n",
       "      <td>5.64</td>\n",
       "      <td>1.04</td>\n",
       "      <td>3.92</td>\n",
       "      <td>1065</td>\n",
       "    </tr>\n",
       "    <tr>\n",
       "      <th>1</th>\n",
       "      <td>1</td>\n",
       "      <td>Barolo</td>\n",
       "      <td>13.20</td>\n",
       "      <td>1.78</td>\n",
       "      <td>2.14</td>\n",
       "      <td>11.2</td>\n",
       "      <td>100</td>\n",
       "      <td>2.65</td>\n",
       "      <td>2.76</td>\n",
       "      <td>0.26</td>\n",
       "      <td>1.28</td>\n",
       "      <td>4.38</td>\n",
       "      <td>1.05</td>\n",
       "      <td>3.40</td>\n",
       "      <td>1050</td>\n",
       "    </tr>\n",
       "    <tr>\n",
       "      <th>2</th>\n",
       "      <td>1</td>\n",
       "      <td>Barolo</td>\n",
       "      <td>13.16</td>\n",
       "      <td>2.36</td>\n",
       "      <td>2.67</td>\n",
       "      <td>18.6</td>\n",
       "      <td>101</td>\n",
       "      <td>2.80</td>\n",
       "      <td>3.24</td>\n",
       "      <td>0.30</td>\n",
       "      <td>2.81</td>\n",
       "      <td>5.68</td>\n",
       "      <td>1.03</td>\n",
       "      <td>3.17</td>\n",
       "      <td>1185</td>\n",
       "    </tr>\n",
       "    <tr>\n",
       "      <th>3</th>\n",
       "      <td>1</td>\n",
       "      <td>Barolo</td>\n",
       "      <td>14.37</td>\n",
       "      <td>1.95</td>\n",
       "      <td>2.50</td>\n",
       "      <td>16.8</td>\n",
       "      <td>113</td>\n",
       "      <td>3.85</td>\n",
       "      <td>3.49</td>\n",
       "      <td>0.24</td>\n",
       "      <td>2.18</td>\n",
       "      <td>7.80</td>\n",
       "      <td>0.86</td>\n",
       "      <td>3.45</td>\n",
       "      <td>1480</td>\n",
       "    </tr>\n",
       "    <tr>\n",
       "      <th>4</th>\n",
       "      <td>1</td>\n",
       "      <td>Barolo</td>\n",
       "      <td>13.24</td>\n",
       "      <td>2.59</td>\n",
       "      <td>2.87</td>\n",
       "      <td>21.0</td>\n",
       "      <td>118</td>\n",
       "      <td>2.80</td>\n",
       "      <td>2.69</td>\n",
       "      <td>0.39</td>\n",
       "      <td>1.82</td>\n",
       "      <td>4.32</td>\n",
       "      <td>1.04</td>\n",
       "      <td>2.93</td>\n",
       "      <td>735</td>\n",
       "    </tr>\n",
       "  </tbody>\n",
       "</table>\n",
       "</div>"
      ],
      "text/plain": [
       "   class_label class_name  alcohol  malic_acid   ash  alcalinity_of_ash  \\\n",
       "0            1     Barolo    14.23        1.71  2.43               15.6   \n",
       "1            1     Barolo    13.20        1.78  2.14               11.2   \n",
       "2            1     Barolo    13.16        2.36  2.67               18.6   \n",
       "3            1     Barolo    14.37        1.95  2.50               16.8   \n",
       "4            1     Barolo    13.24        2.59  2.87               21.0   \n",
       "\n",
       "   magnesium  total_phenols  flavanoids  nonflavanoid_phenols  \\\n",
       "0        127           2.80        3.06                  0.28   \n",
       "1        100           2.65        2.76                  0.26   \n",
       "2        101           2.80        3.24                  0.30   \n",
       "3        113           3.85        3.49                  0.24   \n",
       "4        118           2.80        2.69                  0.39   \n",
       "\n",
       "   proanthocyanins  color_intensity   hue  od280  proline  \n",
       "0             2.29             5.64  1.04   3.92     1065  \n",
       "1             1.28             4.38  1.05   3.40     1050  \n",
       "2             2.81             5.68  1.03   3.17     1185  \n",
       "3             2.18             7.80  0.86   3.45     1480  \n",
       "4             1.82             4.32  1.04   2.93      735  "
      ]
     },
     "execution_count": 33,
     "metadata": {},
     "output_type": "execute_result"
    }
   ],
   "source": [
    "df_wine = pd.read_csv('datasets/wine.csv')\n",
    "df_wine.head()"
   ]
  },
  {
   "cell_type": "code",
   "execution_count": 41,
   "id": "suitable-multiple",
   "metadata": {},
   "outputs": [
    {
     "data": {
      "text/plain": [
       "0       Barolo\n",
       "1       Barolo\n",
       "2       Barolo\n",
       "3       Barolo\n",
       "4       Barolo\n",
       "        ...   \n",
       "173    Barbera\n",
       "174    Barbera\n",
       "175    Barbera\n",
       "176    Barbera\n",
       "177    Barbera\n",
       "Name: class_name, Length: 178, dtype: object"
      ]
     },
     "execution_count": 41,
     "metadata": {},
     "output_type": "execute_result"
    }
   ],
   "source": [
    "samples = df_wine.drop(['class_label','class_name'],axis=1)\n",
    "varieties = df_wine.class_name\n",
    "varieties"
   ]
  },
  {
   "cell_type": "code",
   "execution_count": 37,
   "id": "heated-system",
   "metadata": {},
   "outputs": [],
   "source": [
    "samples = samples.values"
   ]
  },
  {
   "cell_type": "code",
   "execution_count": 38,
   "id": "intended-impossible",
   "metadata": {},
   "outputs": [],
   "source": [
    "model = KMeans(n_clusters=3)\n",
    "labels = model.fit_predict(samples)"
   ]
  },
  {
   "cell_type": "code",
   "execution_count": 60,
   "id": "adolescent-premises",
   "metadata": {},
   "outputs": [
    {
     "name": "stdout",
     "output_type": "stream",
     "text": [
      "varieties  Barbera  Barolo  Grignolino\n",
      "labels                                \n",
      "0                0      59           3\n",
      "1                0       0          65\n",
      "2               48       0           3\n"
     ]
    }
   ],
   "source": [
    "#without feature standardization was very bad\n",
    "df = pd.DataFrame({'labels':labels,'varieties':varieties})\n",
    "ct = pd.crosstab(df['labels'],df['varieties'])\n",
    "print(ct)"
   ]
  },
  {
   "cell_type": "markdown",
   "id": "green-johns",
   "metadata": {},
   "source": [
    "StandardScaler"
   ]
  },
  {
   "cell_type": "code",
   "execution_count": 61,
   "id": "enhanced-pressure",
   "metadata": {},
   "outputs": [],
   "source": [
    "#In Kmeans : feature variance = feature influence\n",
    "# StandardScaler transforms each feature to have mean 0 and variance 1\n",
    "#features are said to be \"standardized\""
   ]
  },
  {
   "cell_type": "code",
   "execution_count": 62,
   "id": "assumed-sharp",
   "metadata": {},
   "outputs": [],
   "source": [
    "from sklearn.preprocessing import StandardScaler\n",
    "scaler = StandardScaler()\n",
    "scaler.fit(samples)\n",
    "StandardScaler(copy=True,with_mean=True,with_std=True)\n",
    "samples_scaled = scaler.transform(samples)"
   ]
  },
  {
   "cell_type": "code",
   "execution_count": 63,
   "id": "crazy-auction",
   "metadata": {},
   "outputs": [],
   "source": [
    "#StandardScaler and KMeans have similar methods\n",
    "#use fit()/transform() with StandardScaler\n",
    "#use fit()/predict() with KMeans"
   ]
  },
  {
   "cell_type": "code",
   "execution_count": 64,
   "id": "static-rings",
   "metadata": {},
   "outputs": [
    {
     "data": {
      "text/plain": [
       "Pipeline(steps=[('standardscaler', StandardScaler()),\n",
       "                ('kmeans', KMeans(n_clusters=3))])"
      ]
     },
     "execution_count": 64,
     "metadata": {},
     "output_type": "execute_result"
    }
   ],
   "source": [
    "#StandardScaler then KMeans using pipeline\n",
    "from sklearn.pipeline import make_pipeline\n",
    "scaler = StandardScaler()\n",
    "kmeans = KMeans(n_clusters = 3)\n",
    "pipeline = make_pipeline(scaler,kmeans)\n",
    "# by combining the two steps using a scikit-learn pipeline. Data then flows from one step into the next, automatically.\n",
    "pipeline.fit(samples)"
   ]
  },
  {
   "cell_type": "code",
   "execution_count": 65,
   "id": "gorgeous-investment",
   "metadata": {},
   "outputs": [],
   "source": [
    "samples = samples.reshape(-1,1)\n",
    "labels = pipeline.fit_predict(samples)"
   ]
  },
  {
   "cell_type": "code",
   "execution_count": 66,
   "id": "pregnant-youth",
   "metadata": {},
   "outputs": [
    {
     "name": "stdout",
     "output_type": "stream",
     "text": [
      "varieties  Barbera  Barolo  Grignolino\n",
      "labels                                \n",
      "0               48       0           3\n",
      "1                0       0          65\n",
      "2                0      59           3\n"
     ]
    }
   ],
   "source": [
    "#with feature standardization\n",
    "df = pd.DataFrame({'labels':labels,'varieties':varieties})\n",
    "ct = pd.crosstab(df['labels'],df['varieties'])\n",
    "print(ct)"
   ]
  },
  {
   "cell_type": "markdown",
   "id": "delayed-restoration",
   "metadata": {},
   "source": [
    "# Scaling fish data for clustering"
   ]
  },
  {
   "cell_type": "code",
   "execution_count": 80,
   "id": "built-driving",
   "metadata": {},
   "outputs": [
    {
     "data": {
      "text/plain": [
       "array(['Bream', 'Bream', 'Bream', 'Bream', 'Bream', 'Bream', 'Bream',\n",
       "       'Bream', 'Bream', 'Bream', 'Bream', 'Bream', 'Bream', 'Bream',\n",
       "       'Bream', 'Bream', 'Bream', 'Bream', 'Bream', 'Bream', 'Bream',\n",
       "       'Bream', 'Bream', 'Bream', 'Bream', 'Bream', 'Bream', 'Bream',\n",
       "       'Bream', 'Bream', 'Bream', 'Bream', 'Bream', 'Roach', 'Roach',\n",
       "       'Roach', 'Roach', 'Roach', 'Roach', 'Roach', 'Roach', 'Roach',\n",
       "       'Roach', 'Roach', 'Roach', 'Roach', 'Roach', 'Roach', 'Roach',\n",
       "       'Roach', 'Roach', 'Roach', 'Roach', 'Smelt', 'Smelt', 'Smelt',\n",
       "       'Smelt', 'Smelt', 'Smelt', 'Smelt', 'Smelt', 'Smelt', 'Smelt',\n",
       "       'Smelt', 'Smelt', 'Smelt', 'Smelt', 'Pike', 'Pike', 'Pike', 'Pike',\n",
       "       'Pike', 'Pike', 'Pike', 'Pike', 'Pike', 'Pike', 'Pike', 'Pike',\n",
       "       'Pike', 'Pike', 'Pike', 'Pike', 'Pike'], dtype=object)"
      ]
     },
     "execution_count": 80,
     "metadata": {},
     "output_type": "execute_result"
    }
   ],
   "source": [
    "df_fish = pd.read_csv('datasets/fish.csv')\n",
    "df_fish.head()\n",
    "samples = df_fish.drop('Bream',axis = 1)\n",
    "samples = samples.values\n",
    "species = df_fish.iloc[:,0]\n",
    "species = species.values\n",
    "species"
   ]
  },
  {
   "cell_type": "code",
   "execution_count": 81,
   "id": "complicated-ground",
   "metadata": {},
   "outputs": [],
   "source": [
    "# Perform the necessary imports\n",
    "from sklearn.pipeline import make_pipeline\n",
    "from sklearn.preprocessing import StandardScaler\n",
    "from sklearn.cluster import KMeans\n",
    "\n",
    "# Create scaler: scaler\n",
    "scaler = StandardScaler()\n",
    "\n",
    "# Create KMeans instance: kmeans\n",
    "kmeans = KMeans(n_clusters= 4)\n",
    "\n",
    "# Create pipeline: pipeline\n",
    "pipeline = make_pipeline(scaler,kmeans)\n"
   ]
  },
  {
   "cell_type": "markdown",
   "id": "headed-peninsula",
   "metadata": {},
   "source": [
    "Clustering the fish data"
   ]
  },
  {
   "cell_type": "code",
   "execution_count": 83,
   "id": "combined-hours",
   "metadata": {},
   "outputs": [
    {
     "name": "stdout",
     "output_type": "stream",
     "text": [
      "species  Bream  Pike  Roach  Smelt\n",
      "labels                            \n",
      "0            0     0      0     13\n",
      "1           33     0      1      0\n",
      "2            0    17      0      0\n",
      "3            0     0     19      1\n"
     ]
    }
   ],
   "source": [
    "# Import pandas\n",
    "import pandas as pd\n",
    "\n",
    "# Fit the pipeline to samples\n",
    "pipeline.fit(samples)\n",
    "\n",
    "# Calculate the cluster labels: labels\n",
    "labels = pipeline.predict(samples)\n",
    "\n",
    "# Create a DataFrame with labels and species as columns: df\n",
    "df = pd.DataFrame({'labels':labels,'species':species})\n",
    "\n",
    "# Create crosstab: ct\n",
    "ct = pd.crosstab(df['labels'],df['species'])\n",
    "\n",
    "# Display ct\n",
    "print(ct)"
   ]
  },
  {
   "cell_type": "markdown",
   "id": "eligible-albany",
   "metadata": {},
   "source": [
    "# Clustering stocks using KMeans"
   ]
  },
  {
   "cell_type": "code",
   "execution_count": 120,
   "id": "innocent-canadian",
   "metadata": {},
   "outputs": [],
   "source": [
    "df_stocks = pd.read_csv('datasets/company-stock-movements-2010-2015-incl.csv')\n",
    "\n",
    "df_stocks.columns\n",
    "#df_stocks.rename({\"Unnamed: 0'\":\"companies\"}, axis=\"columns\", inplace=True)\n",
    "\n",
    "movements = df_stocks.loc[:, ~df_stocks.columns.str.contains('^Unnamed')]\n",
    "movements = movements.values\n",
    "\n",
    "companies = df_stocks['Unnamed: 0']\n",
    "companies = companies.values\n"
   ]
  },
  {
   "cell_type": "code",
   "execution_count": 121,
   "id": "mediterranean-wellington",
   "metadata": {},
   "outputs": [
    {
     "data": {
      "text/plain": [
       "Pipeline(steps=[('normalizer', Normalizer()),\n",
       "                ('kmeans', KMeans(n_clusters=10))])"
      ]
     },
     "execution_count": 121,
     "metadata": {},
     "output_type": "execute_result"
    }
   ],
   "source": [
    "# Import Normalizer\n",
    "from sklearn.preprocessing import Normalizer\n",
    "\n",
    "# Create a normalizer: normalizer\n",
    "normalizer = Normalizer()\n",
    "\n",
    "# Create a KMeans model with 10 clusters: kmeans\n",
    "kmeans = KMeans(n_clusters = 10)\n",
    "\n",
    "# Make a pipeline chaining normalizer and kmeans: pipeline\n",
    "pipeline = make_pipeline(normalizer,kmeans)\n",
    "\n",
    "# Fit pipeline to the daily price movements\n",
    "pipeline.fit(movements)\n"
   ]
  },
  {
   "cell_type": "markdown",
   "id": "champion-school",
   "metadata": {},
   "source": [
    "# Which stocks move together?"
   ]
  },
  {
   "cell_type": "code",
   "execution_count": 122,
   "id": "extensive-accuracy",
   "metadata": {},
   "outputs": [
    {
     "name": "stdout",
     "output_type": "stream",
     "text": [
      "    labels                           companies\n",
      "29       0                     Lookheed Martin\n",
      "36       0                    Northrop Grumman\n",
      "4        0                              Boeing\n",
      "13       1                   DuPont de Nemours\n",
      "12       1                             Chevron\n",
      "44       1                        Schlumberger\n",
      "10       1                      ConocoPhillips\n",
      "32       1                                  3M\n",
      "8        1                         Caterpillar\n",
      "23       1                                 IBM\n",
      "30       1                          MasterCard\n",
      "53       1                       Valero Energy\n",
      "57       1                               Exxon\n",
      "39       1                              Pfizer\n",
      "58       2                               Xerox\n",
      "20       2                          Home Depot\n",
      "16       2                   General Electrics\n",
      "25       3                   Johnson & Johnson\n",
      "41       3                       Philip Morris\n",
      "40       3                      Procter Gamble\n",
      "27       3                      Kimberly-Clark\n",
      "9        3                   Colgate-Palmolive\n",
      "54       3                            Walgreen\n",
      "56       3                            Wal-Mart\n",
      "38       3                               Pepsi\n",
      "28       3                           Coca Cola\n",
      "33       4                           Microsoft\n",
      "50       4  Taiwan Semiconductor Manufacturing\n",
      "51       4                   Texas instruments\n",
      "0        4                               Apple\n",
      "24       4                               Intel\n",
      "14       4                                Dell\n",
      "11       4                               Cisco\n",
      "45       5                                Sony\n",
      "59       6                               Yahoo\n",
      "2        6                              Amazon\n",
      "17       6                     Google/Alphabet\n",
      "7        7                               Canon\n",
      "48       7                              Toyota\n",
      "22       7                                  HP\n",
      "21       7                               Honda\n",
      "34       7                          Mitsubishi\n",
      "15       7                                Ford\n",
      "31       8                           McDonalds\n",
      "52       8                            Unilever\n",
      "6        8            British American Tobacco\n",
      "49       8                               Total\n",
      "19       8                     GlaxoSmithKline\n",
      "35       8                            Navistar\n",
      "37       8                            Novartis\n",
      "43       8                                 SAP\n",
      "42       8                   Royal Dutch Shell\n",
      "47       8                            Symantec\n",
      "46       8                      Sanofi-Aventis\n",
      "18       9                       Goldman Sachs\n",
      "26       9                      JPMorgan Chase\n",
      "5        9                     Bank of America\n",
      "3        9                    American express\n",
      "55       9                         Wells Fargo\n",
      "1        9                                 AIG\n"
     ]
    }
   ],
   "source": [
    "# Import pandas\n",
    "import pandas as pd\n",
    "\n",
    "# Predict the cluster labels: labels\n",
    "labels = pipeline.predict(movements)\n",
    "\n",
    "# Create a DataFrame aligning labels and companies: df\n",
    "df = pd.DataFrame({'labels': labels, 'companies': companies})\n",
    "\n",
    "# Display df sorted by cluster label\n",
    "print(df.sort_values(by='labels'))\n"
   ]
  },
  {
   "cell_type": "code",
   "execution_count": null,
   "id": "given-calculation",
   "metadata": {},
   "outputs": [],
   "source": []
  }
 ],
 "metadata": {
  "kernelspec": {
   "display_name": "Python 3",
   "language": "python",
   "name": "python3"
  },
  "language_info": {
   "codemirror_mode": {
    "name": "ipython",
    "version": 3
   },
   "file_extension": ".py",
   "mimetype": "text/x-python",
   "name": "python",
   "nbconvert_exporter": "python",
   "pygments_lexer": "ipython3",
   "version": "3.8.5"
  }
 },
 "nbformat": 4,
 "nbformat_minor": 5
}
